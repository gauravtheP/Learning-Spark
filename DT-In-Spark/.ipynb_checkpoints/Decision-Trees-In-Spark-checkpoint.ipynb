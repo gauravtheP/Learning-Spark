{
 "cells": [
  {
   "cell_type": "markdown",
   "metadata": {},
   "source": [
    "# Decision Trees in Spark"
   ]
  },
  {
   "cell_type": "code",
   "execution_count": 1,
   "metadata": {},
   "outputs": [],
   "source": [
    "from pyspark.mllib.regression import LabeledPoint #this is a datatype required by decision trees\n",
    "from pyspark.mllib.tree import DecisionTree\n",
    "from pyspark import SparkConf, SparkContext #this is needed to create spark context object which is kind of root of everything you do in spark.\n",
    "import numpy as np"
   ]
  },
  {
   "cell_type": "code",
   "execution_count": 2,
   "metadata": {},
   "outputs": [],
   "source": [
    "sc = SparkContext.getOrCreate()"
   ]
  },
  {
   "cell_type": "code",
   "execution_count": 3,
   "metadata": {},
   "outputs": [],
   "source": [
    "def binary(data):\n",
    "    if data == \"Y\":\n",
    "        return 1\n",
    "    else:\n",
    "        return 0\n",
    "\n",
    "def mapEducation(degree):\n",
    "    if degree == \"BS\":\n",
    "        return 1\n",
    "    elif degree == \"MS\":\n",
    "        return 2\n",
    "    elif degree == \"PHD\":\n",
    "        return 3\n",
    "    else:\n",
    "        return 0\n",
    "\n",
    "def createLabelPoints(fields):\n",
    "    yearsExp = int(fields[0])\n",
    "    employed = binary(fields[1])\n",
    "    previousExp = int(fields[2])\n",
    "    education = mapEducation(fields[3])\n",
    "    topTier = binary(fields[4])\n",
    "    internship = binary(fields[5])\n",
    "    hired = binary(fields[6])\n",
    "    return LabeledPoint(hired, np.array([yearsExp, employed, previousExp, education, topTier, internship]))"
   ]
  },
  {
   "cell_type": "code",
   "execution_count": 4,
   "metadata": {},
   "outputs": [
    {
     "data": {
      "text/plain": [
       "['YearsExp,Employed?,PreviousEmployers,Education,TopTierSchool,Internship?,Hired',\n",
       " '10,Y,4,BS,N,N,Y',\n",
       " '0,N,0,BS,Y,Y,Y',\n",
       " '7,N,6,BS,N,N,N',\n",
       " '2,Y,1,MS,Y,N,Y']"
      ]
     },
     "execution_count": 4,
     "metadata": {},
     "output_type": "execute_result"
    }
   ],
   "source": [
    "rawData = sc.textFile(\"Hire.csv\")\n",
    "rawData.take(5)"
   ]
  },
  {
   "cell_type": "code",
   "execution_count": 5,
   "metadata": {},
   "outputs": [
    {
     "data": {
      "text/plain": [
       "'YearsExp,Employed?,PreviousEmployers,Education,TopTierSchool,Internship?,Hired'"
      ]
     },
     "execution_count": 5,
     "metadata": {},
     "output_type": "execute_result"
    }
   ],
   "source": [
    "column_row = rawData.first()\n",
    "column_row"
   ]
  },
  {
   "cell_type": "code",
   "execution_count": 6,
   "metadata": {},
   "outputs": [
    {
     "data": {
      "text/plain": [
       "['10,Y,4,BS,N,N,Y',\n",
       " '0,N,0,BS,Y,Y,Y',\n",
       " '7,N,6,BS,N,N,N',\n",
       " '2,Y,1,MS,Y,N,Y',\n",
       " '20,N,2,PHD,Y,N,N']"
      ]
     },
     "execution_count": 6,
     "metadata": {},
     "output_type": "execute_result"
    }
   ],
   "source": [
    "rawData = rawData.filter(lambda x: x != column_row)   #removing column-name from the data\n",
    "rawData.take(5)  "
   ]
  },
  {
   "cell_type": "code",
   "execution_count": 7,
   "metadata": {},
   "outputs": [
    {
     "data": {
      "text/plain": [
       "[['10', 'Y', '4', 'BS', 'N', 'N', 'Y'],\n",
       " ['0', 'N', '0', 'BS', 'Y', 'Y', 'Y'],\n",
       " ['7', 'N', '6', 'BS', 'N', 'N', 'N'],\n",
       " ['2', 'Y', '1', 'MS', 'Y', 'N', 'Y'],\n",
       " ['20', 'N', '2', 'PHD', 'Y', 'N', 'N']]"
      ]
     },
     "execution_count": 7,
     "metadata": {},
     "output_type": "execute_result"
    }
   ],
   "source": [
    "csvData = rawData.map(lambda x: x.split(\",\")) #separate each element of a with a comma\n",
    "csvData.take(5)"
   ]
  },
  {
   "cell_type": "code",
   "execution_count": 8,
   "metadata": {},
   "outputs": [
    {
     "data": {
      "text/plain": [
       "[LabeledPoint(1.0, [10.0,1.0,4.0,1.0,0.0,0.0]),\n",
       " LabeledPoint(1.0, [0.0,0.0,0.0,1.0,1.0,1.0]),\n",
       " LabeledPoint(0.0, [7.0,0.0,6.0,1.0,0.0,0.0]),\n",
       " LabeledPoint(1.0, [2.0,1.0,1.0,2.0,1.0,0.0]),\n",
       " LabeledPoint(0.0, [20.0,0.0,2.0,3.0,1.0,0.0])]"
      ]
     },
     "execution_count": 8,
     "metadata": {},
     "output_type": "execute_result"
    }
   ],
   "source": [
    "train_data = csvData.map(createLabelPoints)\n",
    "train_data.take(5)"
   ]
  },
  {
   "cell_type": "code",
   "execution_count": 9,
   "metadata": {},
   "outputs": [],
   "source": [
    "testCandidate = list(np.array([10, 1, 3, 1, 0, 0]))\n",
    "#above 10 means 10 yrs of experience, 1 means employed, 3 means 3\n",
    "#previous employers, 1 means BS degree, 0 means not a top tier school and\n",
    "#last 0 means no internship.\n",
    "testData = sc.parallelize(testCandidate)   #this is to create RDD"
   ]
  },
  {
   "cell_type": "code",
   "execution_count": 15,
   "metadata": {},
   "outputs": [],
   "source": [
    "model = DecisionTree.trainClassifier(train_data, numClasses=2,\n",
    "                                     categoricalFeaturesInfo={1:2, 3:4, 4:2, 5:2},\n",
    "                                     impurity='gini', maxDepth=5, maxBins=32)\n",
    "#refer: https://spark.apache.org/docs/2.2.0/mllib-decision-tree.html\n",
    "predictions = model.predict(testData)"
   ]
  },
  {
   "cell_type": "code",
   "execution_count": 20,
   "metadata": {},
   "outputs": [
    {
     "name": "stdout",
     "output_type": "stream",
     "text": [
      "Hire Prediction:\n",
      "1.0\n"
     ]
    }
   ],
   "source": [
    "print(\"Hire Prediction:\")\n",
    "results = predictions.collect() #collect() returns python object on our predictions\n",
    "for result in results:\n",
    "    print(result)"
   ]
  }
 ],
 "metadata": {
  "kernelspec": {
   "display_name": "Python 3",
   "language": "python",
   "name": "python3"
  },
  "language_info": {
   "codemirror_mode": {
    "name": "ipython",
    "version": 3
   },
   "file_extension": ".py",
   "mimetype": "text/x-python",
   "name": "python",
   "nbconvert_exporter": "python",
   "pygments_lexer": "ipython3",
   "version": "3.6.5"
  }
 },
 "nbformat": 4,
 "nbformat_minor": 2
}
