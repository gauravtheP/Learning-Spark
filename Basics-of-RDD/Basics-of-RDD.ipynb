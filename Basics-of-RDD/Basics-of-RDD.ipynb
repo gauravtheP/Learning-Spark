{
 "cells": [
  {
   "cell_type": "markdown",
   "metadata": {},
   "source": [
    "# Basics of RDD-1"
   ]
  },
  {
   "cell_type": "code",
   "execution_count": 1,
   "metadata": {},
   "outputs": [
    {
     "data": {
      "text/html": [
       "\n",
       "        <div>\n",
       "            <p><b>SparkContext</b></p>\n",
       "\n",
       "            <p><a href=\"http://Gaurav:4040\">Spark UI</a></p>\n",
       "\n",
       "            <dl>\n",
       "              <dt>Version</dt>\n",
       "                <dd><code>v2.3.1</code></dd>\n",
       "              <dt>Master</dt>\n",
       "                <dd><code>local[*]</code></dd>\n",
       "              <dt>AppName</dt>\n",
       "                <dd><code>PySparkShell</code></dd>\n",
       "            </dl>\n",
       "        </div>\n",
       "        "
      ],
      "text/plain": [
       "<SparkContext master=local[*] appName=PySparkShell>"
      ]
     },
     "execution_count": 1,
     "metadata": {},
     "output_type": "execute_result"
    }
   ],
   "source": [
    "from pyspark import SparkContext, SparkConf\n",
    "sc = SparkContext.getOrCreate()   #here, sc is a spark context which is nothing but a handle to run spark functions and spark codes\n",
    "sc "
   ]
  },
  {
   "cell_type": "code",
   "execution_count": 2,
   "metadata": {},
   "outputs": [
    {
     "data": {
      "text/plain": [
       "ParallelCollectionRDD[0] at parallelize at PythonRDD.scala:184"
      ]
     },
     "execution_count": 2,
     "metadata": {},
     "output_type": "execute_result"
    }
   ],
   "source": [
    "data = sc.parallelize([1, 2, 3, 4, 5, 6, 7, 8, 9])   #sc.parallelize() function creates RDD.\n",
    "data"
   ]
  },
  {
   "cell_type": "code",
   "execution_count": 3,
   "metadata": {},
   "outputs": [
    {
     "data": {
      "text/plain": [
       "[1, 2, 3, 4, 5, 6, 7, 8, 9]"
      ]
     },
     "execution_count": 3,
     "metadata": {},
     "output_type": "execute_result"
    }
   ],
   "source": [
    "data2 = data.collect()\n",
    "data2"
   ]
  },
  {
   "cell_type": "code",
   "execution_count": 4,
   "metadata": {},
   "outputs": [
    {
     "data": {
      "text/plain": [
       "4"
      ]
     },
     "execution_count": 4,
     "metadata": {},
     "output_type": "execute_result"
    }
   ],
   "source": [
    "data2[3]"
   ]
  },
  {
   "cell_type": "code",
   "execution_count": 5,
   "metadata": {},
   "outputs": [
    {
     "data": {
      "text/plain": [
       "362880"
      ]
     },
     "execution_count": 5,
     "metadata": {},
     "output_type": "execute_result"
    }
   ],
   "source": [
    "data.reduce(lambda x,y: x*y)"
   ]
  },
  {
   "cell_type": "code",
   "execution_count": 6,
   "metadata": {},
   "outputs": [
    {
     "data": {
      "text/plain": [
       "['# Human Activity Recognition',\n",
       " '## Description',\n",
       " 'These days Smartphones have become an integral part of our life. We cannot assume our life without a mobile phone. Since, the advent of Smartphones, a revolution has been created in the mobile communication industry. Smartphones are not just restricted for calling these days. Infact, they are more often used for entertainment purpose.',\n",
       " '',\n",
       " 'Smartphone manufacturing companies load Smartphones with various sensors to enhance the user experinece. Two of the such sensors are __Accelerometer__ and __Gyroscope__. __Accelerometer__ measures acceleration while __Gyroscope__ measures angular velocity.',\n",
       " '',\n",
       " 'Here, we will try to use the data provided by accelerometer and gyroscope of Smartphone to classify the activity which a Smartphone user is performing.',\n",
       " '',\n",
       " '## Why this is Useful?',\n",
       " 'These days, in addition to Smartphones, we are also using Smart-Watches like Fitbit or Apple-Watch, which help us to track our health. They monitor our each activity throughout the day check how many calories we have burnt. How many hours have we slept. However, in addition to Accelerometer and Gyroscope, they also use Heart-Rate data to monitor our activity. Since, we only have Smartphone data so just by using Accelerometer and Gyroscope data we will monitor the activity of a person. This software can then be converted into an App which can be downloaded in Smartphone. Hence, a person who has Smartphone can monitor his/her health using this App']"
      ]
     },
     "execution_count": 6,
     "metadata": {},
     "output_type": "execute_result"
    }
   ],
   "source": [
    "rdd = sc.textFile(\"Test_Text.txt\")  #another way of creating RDD is by reading a text file\n",
    "rdd.take(10) "
   ]
  },
  {
   "cell_type": "code",
   "execution_count": 7,
   "metadata": {},
   "outputs": [],
   "source": [
    "def func(lines):\n",
    "    lines = lines.lower()\n",
    "    lines = lines.split()\n",
    "    return lines\n",
    "rdd2 = rdd.map(func)"
   ]
  },
  {
   "cell_type": "code",
   "execution_count": 8,
   "metadata": {},
   "outputs": [
    {
     "data": {
      "text/plain": [
       "[['#', 'human', 'activity', 'recognition'],\n",
       " ['##', 'description'],\n",
       " ['these',\n",
       "  'days',\n",
       "  'smartphones',\n",
       "  'have',\n",
       "  'become',\n",
       "  'an',\n",
       "  'integral',\n",
       "  'part',\n",
       "  'of',\n",
       "  'our',\n",
       "  'life.',\n",
       "  'we',\n",
       "  'cannot',\n",
       "  'assume',\n",
       "  'our',\n",
       "  'life',\n",
       "  'without',\n",
       "  'a',\n",
       "  'mobile',\n",
       "  'phone.',\n",
       "  'since,',\n",
       "  'the',\n",
       "  'advent',\n",
       "  'of',\n",
       "  'smartphones,',\n",
       "  'a',\n",
       "  'revolution',\n",
       "  'has',\n",
       "  'been',\n",
       "  'created',\n",
       "  'in',\n",
       "  'the',\n",
       "  'mobile',\n",
       "  'communication',\n",
       "  'industry.',\n",
       "  'smartphones',\n",
       "  'are',\n",
       "  'not',\n",
       "  'just',\n",
       "  'restricted',\n",
       "  'for',\n",
       "  'calling',\n",
       "  'these',\n",
       "  'days.',\n",
       "  'infact,',\n",
       "  'they',\n",
       "  'are',\n",
       "  'more',\n",
       "  'often',\n",
       "  'used',\n",
       "  'for',\n",
       "  'entertainment',\n",
       "  'purpose.'],\n",
       " [],\n",
       " ['smartphone',\n",
       "  'manufacturing',\n",
       "  'companies',\n",
       "  'load',\n",
       "  'smartphones',\n",
       "  'with',\n",
       "  'various',\n",
       "  'sensors',\n",
       "  'to',\n",
       "  'enhance',\n",
       "  'the',\n",
       "  'user',\n",
       "  'experinece.',\n",
       "  'two',\n",
       "  'of',\n",
       "  'the',\n",
       "  'such',\n",
       "  'sensors',\n",
       "  'are',\n",
       "  '__accelerometer__',\n",
       "  'and',\n",
       "  '__gyroscope__.',\n",
       "  '__accelerometer__',\n",
       "  'measures',\n",
       "  'acceleration',\n",
       "  'while',\n",
       "  '__gyroscope__',\n",
       "  'measures',\n",
       "  'angular',\n",
       "  'velocity.'],\n",
       " [],\n",
       " ['here,',\n",
       "  'we',\n",
       "  'will',\n",
       "  'try',\n",
       "  'to',\n",
       "  'use',\n",
       "  'the',\n",
       "  'data',\n",
       "  'provided',\n",
       "  'by',\n",
       "  'accelerometer',\n",
       "  'and',\n",
       "  'gyroscope',\n",
       "  'of',\n",
       "  'smartphone',\n",
       "  'to',\n",
       "  'classify',\n",
       "  'the',\n",
       "  'activity',\n",
       "  'which',\n",
       "  'a',\n",
       "  'smartphone',\n",
       "  'user',\n",
       "  'is',\n",
       "  'performing.'],\n",
       " [],\n",
       " ['##', 'why', 'this', 'is', 'useful?'],\n",
       " ['these',\n",
       "  'days,',\n",
       "  'in',\n",
       "  'addition',\n",
       "  'to',\n",
       "  'smartphones,',\n",
       "  'we',\n",
       "  'are',\n",
       "  'also',\n",
       "  'using',\n",
       "  'smart-watches',\n",
       "  'like',\n",
       "  'fitbit',\n",
       "  'or',\n",
       "  'apple-watch,',\n",
       "  'which',\n",
       "  'help',\n",
       "  'us',\n",
       "  'to',\n",
       "  'track',\n",
       "  'our',\n",
       "  'health.',\n",
       "  'they',\n",
       "  'monitor',\n",
       "  'our',\n",
       "  'each',\n",
       "  'activity',\n",
       "  'throughout',\n",
       "  'the',\n",
       "  'day',\n",
       "  'check',\n",
       "  'how',\n",
       "  'many',\n",
       "  'calories',\n",
       "  'we',\n",
       "  'have',\n",
       "  'burnt.',\n",
       "  'how',\n",
       "  'many',\n",
       "  'hours',\n",
       "  'have',\n",
       "  'we',\n",
       "  'slept.',\n",
       "  'however,',\n",
       "  'in',\n",
       "  'addition',\n",
       "  'to',\n",
       "  'accelerometer',\n",
       "  'and',\n",
       "  'gyroscope,',\n",
       "  'they',\n",
       "  'also',\n",
       "  'use',\n",
       "  'heart-rate',\n",
       "  'data',\n",
       "  'to',\n",
       "  'monitor',\n",
       "  'our',\n",
       "  'activity.',\n",
       "  'since,',\n",
       "  'we',\n",
       "  'only',\n",
       "  'have',\n",
       "  'smartphone',\n",
       "  'data',\n",
       "  'so',\n",
       "  'just',\n",
       "  'by',\n",
       "  'using',\n",
       "  'accelerometer',\n",
       "  'and',\n",
       "  'gyroscope',\n",
       "  'data',\n",
       "  'we',\n",
       "  'will',\n",
       "  'monitor',\n",
       "  'the',\n",
       "  'activity',\n",
       "  'of',\n",
       "  'a',\n",
       "  'person.',\n",
       "  'this',\n",
       "  'software',\n",
       "  'can',\n",
       "  'then',\n",
       "  'be',\n",
       "  'converted',\n",
       "  'into',\n",
       "  'an',\n",
       "  'app',\n",
       "  'which',\n",
       "  'can',\n",
       "  'be',\n",
       "  'downloaded',\n",
       "  'in',\n",
       "  'smartphone.',\n",
       "  'hence,',\n",
       "  'a',\n",
       "  'person',\n",
       "  'who',\n",
       "  'has',\n",
       "  'smartphone',\n",
       "  'can',\n",
       "  'monitor',\n",
       "  'his/her',\n",
       "  'health',\n",
       "  'using',\n",
       "  'this',\n",
       "  'app']]"
      ]
     },
     "execution_count": 8,
     "metadata": {},
     "output_type": "execute_result"
    }
   ],
   "source": [
    "rdd2.take(10)"
   ]
  },
  {
   "cell_type": "code",
   "execution_count": 9,
   "metadata": {},
   "outputs": [],
   "source": [
    "rdd2 = rdd.flatMap(func)"
   ]
  },
  {
   "cell_type": "code",
   "execution_count": 10,
   "metadata": {},
   "outputs": [
    {
     "data": {
      "text/plain": [
       "['#',\n",
       " 'human',\n",
       " 'activity',\n",
       " 'recognition',\n",
       " '##',\n",
       " 'description',\n",
       " 'these',\n",
       " 'days',\n",
       " 'smartphones',\n",
       " 'have',\n",
       " 'become',\n",
       " 'an']"
      ]
     },
     "execution_count": 10,
     "metadata": {},
     "output_type": "execute_result"
    }
   ],
   "source": [
    "rdd2.take(12)"
   ]
  },
  {
   "cell_type": "code",
   "execution_count": 11,
   "metadata": {},
   "outputs": [
    {
     "data": {
      "text/plain": [
       "['human',\n",
       " 'activity',\n",
       " 'recognition',\n",
       " 'description',\n",
       " 'these',\n",
       " 'days',\n",
       " 'smartphones',\n",
       " 'have',\n",
       " 'become',\n",
       " 'integral']"
      ]
     },
     "execution_count": 11,
     "metadata": {},
     "output_type": "execute_result"
    }
   ],
   "source": [
    "extra = ['#', '##', 'a', 'an', 'the']\n",
    "rdd3 = rdd2.filter(lambda x: x not in extra)\n",
    "rdd3.take(10)"
   ]
  }
 ],
 "metadata": {
  "kernelspec": {
   "display_name": "Python 3",
   "language": "python",
   "name": "python3"
  },
  "language_info": {
   "codemirror_mode": {
    "name": "ipython",
    "version": 3
   },
   "file_extension": ".py",
   "mimetype": "text/x-python",
   "name": "python",
   "nbconvert_exporter": "python",
   "pygments_lexer": "ipython3",
   "version": "3.6.5"
  }
 },
 "nbformat": 4,
 "nbformat_minor": 2
}
