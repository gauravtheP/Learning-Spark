{
 "cells": [
  {
   "cell_type": "markdown",
   "metadata": {},
   "source": [
    "# Working with Dataframes"
   ]
  },
  {
   "cell_type": "code",
   "execution_count": 3,
   "metadata": {},
   "outputs": [],
   "source": [
    "import pyspark as pys\n",
    "from pyspark.sql import SparkSession\n",
    "pys = SparkSession.builder.appName(\"Python Spark SQL basic example\").config(\"spark.some.config.option\", \"some-value\").getOrCreate()\n",
    "#above line is a way to start spark session"
   ]
  },
  {
   "cell_type": "code",
   "execution_count": 5,
   "metadata": {},
   "outputs": [],
   "source": [
    "df = pys.read.csv(\"Hire.csv\")"
   ]
  },
  {
   "cell_type": "code",
   "execution_count": 6,
   "metadata": {},
   "outputs": [
    {
     "data": {
      "text/plain": [
       "DataFrame[_c0: string, _c1: string, _c2: string, _c3: string, _c4: string, _c5: string, _c6: string]"
      ]
     },
     "execution_count": 6,
     "metadata": {},
     "output_type": "execute_result"
    }
   ],
   "source": [
    "df"
   ]
  },
  {
   "cell_type": "code",
   "execution_count": 7,
   "metadata": {},
   "outputs": [
    {
     "name": "stdout",
     "output_type": "stream",
     "text": [
      "root\n",
      " |-- _c0: string (nullable = true)\n",
      " |-- _c1: string (nullable = true)\n",
      " |-- _c2: string (nullable = true)\n",
      " |-- _c3: string (nullable = true)\n",
      " |-- _c4: string (nullable = true)\n",
      " |-- _c5: string (nullable = true)\n",
      " |-- _c6: string (nullable = true)\n",
      "\n"
     ]
    }
   ],
   "source": [
    "df.printSchema()"
   ]
  },
  {
   "cell_type": "code",
   "execution_count": 8,
   "metadata": {},
   "outputs": [
    {
     "data": {
      "text/plain": [
       "Row(_c0='YearsExp', _c1='Employed?', _c2='PreviousEmployers', _c3='Education', _c4='TopTierSchool', _c5='Internship?', _c6='Hired')"
      ]
     },
     "execution_count": 8,
     "metadata": {},
     "output_type": "execute_result"
    }
   ],
   "source": [
    "df.head()"
   ]
  },
  {
   "cell_type": "code",
   "execution_count": 9,
   "metadata": {},
   "outputs": [
    {
     "data": {
      "text/plain": [
       "14"
      ]
     },
     "execution_count": 9,
     "metadata": {},
     "output_type": "execute_result"
    }
   ],
   "source": [
    "df.count()"
   ]
  },
  {
   "cell_type": "code",
   "execution_count": 10,
   "metadata": {},
   "outputs": [
    {
     "name": "stdout",
     "output_type": "stream",
     "text": [
      "+-------+-----------------+---------+------------------+----+----+-----------+-----+\n",
      "|summary|              _c0|      _c1|               _c2| _c3| _c4|        _c5|  _c6|\n",
      "+-------+-----------------+---------+------------------+----+----+-----------+-----+\n",
      "|  count|               14|       14|                14|  14|  14|         14|   14|\n",
      "|   mean|5.153846153846154|     null|1.7692307692307692|null|null|       null| null|\n",
      "| stddev|  6.3488339329118|     null| 2.006400016357911|null|null|       null| null|\n",
      "|    min|                0|Employed?|                 0|  BS|   N|Internship?|Hired|\n",
      "|    max|         YearsExp|        Y| PreviousEmployers| PHD|   Y|          Y|    Y|\n",
      "+-------+-----------------+---------+------------------+----+----+-----------+-----+\n",
      "\n"
     ]
    }
   ],
   "source": [
    "df.describe().show()"
   ]
  },
  {
   "cell_type": "code",
   "execution_count": 15,
   "metadata": {},
   "outputs": [
    {
     "name": "stdout",
     "output_type": "stream",
     "text": [
      "+--------+---------+-----------------+---------+-------------+-----------+-----+\n",
      "|     _c0|      _c1|              _c2|      _c3|          _c4|        _c5|  _c6|\n",
      "+--------+---------+-----------------+---------+-------------+-----------+-----+\n",
      "|YearsExp|Employed?|PreviousEmployers|Education|TopTierSchool|Internship?|Hired|\n",
      "|      10|        Y|                4|       BS|            N|          N|    Y|\n",
      "|       0|        N|                0|       BS|            Y|          Y|    Y|\n",
      "|       7|        N|                6|       BS|            N|          N|    N|\n",
      "|       2|        Y|                1|       MS|            Y|          N|    Y|\n",
      "|      20|        N|                2|      PHD|            Y|          N|    N|\n",
      "|       0|        N|                0|      PHD|            Y|          Y|    Y|\n",
      "|       5|        Y|                2|       MS|            N|          Y|    Y|\n",
      "|       3|        N|                1|       BS|            N|          Y|    Y|\n",
      "|      15|        Y|                5|       BS|            N|          N|    Y|\n",
      "|       0|        N|                0|       BS|            N|          N|    N|\n",
      "|       1|        N|                1|      PHD|            Y|          N|    N|\n",
      "|       4|        Y|                1|       BS|            N|          Y|    Y|\n",
      "|       0|        N|                0|      PHD|            Y|          N|    Y|\n",
      "+--------+---------+-----------------+---------+-------------+-----------+-----+\n",
      "\n"
     ]
    }
   ],
   "source": [
    "df.dropna().show()  #it will return the dataframe omitting rows with null values "
   ]
  },
  {
   "cell_type": "code",
   "execution_count": 16,
   "metadata": {},
   "outputs": [
    {
     "data": {
      "text/plain": [
       "14"
      ]
     },
     "execution_count": 16,
     "metadata": {},
     "output_type": "execute_result"
    }
   ],
   "source": [
    "df.dropna().count() #it will give count of rows of the returned dataframe which is returned from dropna()"
   ]
  }
 ],
 "metadata": {
  "kernelspec": {
   "display_name": "Python 3",
   "language": "python",
   "name": "python3"
  },
  "language_info": {
   "codemirror_mode": {
    "name": "ipython",
    "version": 3
   },
   "file_extension": ".py",
   "mimetype": "text/x-python",
   "name": "python",
   "nbconvert_exporter": "python",
   "pygments_lexer": "ipython3",
   "version": "3.6.5"
  }
 },
 "nbformat": 4,
 "nbformat_minor": 2
}
