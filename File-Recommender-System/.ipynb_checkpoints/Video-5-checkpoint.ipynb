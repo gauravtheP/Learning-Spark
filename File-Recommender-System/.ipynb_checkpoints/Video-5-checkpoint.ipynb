{
 "cells": [
  {
   "cell_type": "code",
   "execution_count": 1,
   "metadata": {},
   "outputs": [],
   "source": [
    "from pyspark import SparkContext, SparkConf\n",
    "sc = SparkContext.getOrCreate()   #here, sc is a spark context which is nothing but a handle to run spark functions and spark codes\n",
    "import pyspark as pys\n",
    "from pyspark.sql import SparkSession\n",
    "pys = SparkSession.builder.appName(\"Python Spark SQL basic example\").config(\"spark.some.config.option\", \"some-value\").getOrCreate()\n",
    "#above line is a way to start spark session"
   ]
  },
  {
   "cell_type": "code",
   "execution_count": 46,
   "metadata": {},
   "outputs": [],
   "source": [
    "from pyspark import Row   #Row can be used to create a row object by using named arguments, the fields will be sorted by names."
   ]
  },
  {
   "cell_type": "markdown",
   "metadata": {},
   "source": [
    "### In Video, Instructor has done some mistake in the code while structuring the data. I have written the corrected code below."
   ]
  },
  {
   "cell_type": "code",
   "execution_count": 4,
   "metadata": {},
   "outputs": [],
   "source": [
    "#download data from: https://www.dcc.fc.up.pt/~ltorgo/Regression/cal_housing.html\n",
    "rdd = sc.textFile(\"./CaliforniaHousing/cal_housing.data\")"
   ]
  },
  {
   "cell_type": "code",
   "execution_count": 23,
   "metadata": {},
   "outputs": [
    {
     "data": {
      "text/plain": [
       "20640"
      ]
     },
     "execution_count": 23,
     "metadata": {},
     "output_type": "execute_result"
    }
   ],
   "source": [
    "rdd.count()"
   ]
  },
  {
   "cell_type": "code",
   "execution_count": 68,
   "metadata": {},
   "outputs": [
    {
     "data": {
      "text/plain": [
       "['-122.230000,37.880000,41.000000,880.000000,129.000000,322.000000,126.000000,8.325200,452600.000000',\n",
       " '-122.220000,37.860000,21.000000,7099.000000,1106.000000,2401.000000,1138.000000,8.301400,358500.000000']"
      ]
     },
     "execution_count": 68,
     "metadata": {},
     "output_type": "execute_result"
    }
   ],
   "source": [
    "rdd.take(2)"
   ]
  },
  {
   "cell_type": "code",
   "execution_count": 69,
   "metadata": {},
   "outputs": [
    {
     "data": {
      "text/plain": [
       "str"
      ]
     },
     "execution_count": 69,
     "metadata": {},
     "output_type": "execute_result"
    }
   ],
   "source": [
    "type(rdd.take(2)[0])"
   ]
  },
  {
   "cell_type": "code",
   "execution_count": 26,
   "metadata": {},
   "outputs": [
    {
     "data": {
      "text/plain": [
       "list"
      ]
     },
     "execution_count": 26,
     "metadata": {},
     "output_type": "execute_result"
    }
   ],
   "source": [
    "a = rdd.take(20640)\n",
    "type(a)"
   ]
  },
  {
   "cell_type": "code",
   "execution_count": 38,
   "metadata": {},
   "outputs": [],
   "source": [
    "def func(line):\n",
    "    return line.split(\",\")"
   ]
  },
  {
   "cell_type": "code",
   "execution_count": 42,
   "metadata": {},
   "outputs": [
    {
     "data": {
      "text/plain": [
       "['-122.230000',\n",
       " '37.880000',\n",
       " '41.000000',\n",
       " '880.000000',\n",
       " '129.000000',\n",
       " '322.000000',\n",
       " '126.000000',\n",
       " '8.325200',\n",
       " '452600.000000']"
      ]
     },
     "execution_count": 42,
     "metadata": {},
     "output_type": "execute_result"
    }
   ],
   "source": [
    "func(a[0])"
   ]
  },
  {
   "cell_type": "code",
   "execution_count": 71,
   "metadata": {},
   "outputs": [],
   "source": [
    "df_break = rdd.map(func)"
   ]
  },
  {
   "cell_type": "code",
   "execution_count": 72,
   "metadata": {},
   "outputs": [
    {
     "data": {
      "text/plain": [
       "[['-122.230000',\n",
       "  '37.880000',\n",
       "  '41.000000',\n",
       "  '880.000000',\n",
       "  '129.000000',\n",
       "  '322.000000',\n",
       "  '126.000000',\n",
       "  '8.325200',\n",
       "  '452600.000000'],\n",
       " ['-122.220000',\n",
       "  '37.860000',\n",
       "  '21.000000',\n",
       "  '7099.000000',\n",
       "  '1106.000000',\n",
       "  '2401.000000',\n",
       "  '1138.000000',\n",
       "  '8.301400',\n",
       "  '358500.000000']]"
      ]
     },
     "execution_count": 72,
     "metadata": {},
     "output_type": "execute_result"
    }
   ],
   "source": [
    "df_break.take(2)"
   ]
  },
  {
   "cell_type": "code",
   "execution_count": 77,
   "metadata": {},
   "outputs": [],
   "source": [
    "# The file contains all the the variables. Specifically, it contains median house value, med ian income, housing median age, \n",
    "# total rooms, total bedrooms, population, households, latitude, and longitude in that order.\n",
    "df = df_break.map(lambda line: Row(MedianHouseValue = line[0], \n",
    "                                   MedianIncome = line[1], \n",
    "                                   HousingMedianAge = line[2],\n",
    "                                   TotalRooms = line[3],\n",
    "                                   TotalBedrooms = line[4],\n",
    "                                   Population = line[5],\n",
    "                                   Households = line[6],\n",
    "                                   Latitude = line[7],\n",
    "                                   Longitude = line[8])).toDF()"
   ]
  },
  {
   "cell_type": "code",
   "execution_count": 78,
   "metadata": {},
   "outputs": [
    {
     "data": {
      "text/plain": [
       "['Households',\n",
       " 'HousingMedianAge',\n",
       " 'Latitude',\n",
       " 'Longitude',\n",
       " 'MedianHouseValue',\n",
       " 'MedianIncome',\n",
       " 'Population',\n",
       " 'TotalBedrooms',\n",
       " 'TotalRooms']"
      ]
     },
     "execution_count": 78,
     "metadata": {},
     "output_type": "execute_result"
    }
   ],
   "source": [
    "df.columns"
   ]
  },
  {
   "cell_type": "code",
   "execution_count": 79,
   "metadata": {},
   "outputs": [
    {
     "name": "stdout",
     "output_type": "stream",
     "text": [
      "+-----------+----------------+--------+-------------+----------------+------------+-----------+-------------+-----------+\n",
      "| Households|HousingMedianAge|Latitude|    Longitude|MedianHouseValue|MedianIncome| Population|TotalBedrooms| TotalRooms|\n",
      "+-----------+----------------+--------+-------------+----------------+------------+-----------+-------------+-----------+\n",
      "| 126.000000|       41.000000|8.325200|452600.000000|     -122.230000|   37.880000| 322.000000|   129.000000| 880.000000|\n",
      "|1138.000000|       21.000000|8.301400|358500.000000|     -122.220000|   37.860000|2401.000000|  1106.000000|7099.000000|\n",
      "| 177.000000|       52.000000|7.257400|352100.000000|     -122.240000|   37.850000| 496.000000|   190.000000|1467.000000|\n",
      "| 219.000000|       52.000000|5.643100|341300.000000|     -122.250000|   37.850000| 558.000000|   235.000000|1274.000000|\n",
      "| 259.000000|       52.000000|3.846200|342200.000000|     -122.250000|   37.850000| 565.000000|   280.000000|1627.000000|\n",
      "| 193.000000|       52.000000|4.036800|269700.000000|     -122.250000|   37.850000| 413.000000|   213.000000| 919.000000|\n",
      "| 514.000000|       52.000000|3.659100|299200.000000|     -122.250000|   37.840000|1094.000000|   489.000000|2535.000000|\n",
      "| 647.000000|       52.000000|3.120000|241400.000000|     -122.250000|   37.840000|1157.000000|   687.000000|3104.000000|\n",
      "| 595.000000|       42.000000|2.080400|226700.000000|     -122.260000|   37.840000|1206.000000|   665.000000|2555.000000|\n",
      "| 714.000000|       52.000000|3.691200|261100.000000|     -122.250000|   37.840000|1551.000000|   707.000000|3549.000000|\n",
      "| 402.000000|       52.000000|3.203100|281500.000000|     -122.260000|   37.850000| 910.000000|   434.000000|2202.000000|\n",
      "| 734.000000|       52.000000|3.270500|241800.000000|     -122.260000|   37.850000|1504.000000|   752.000000|3503.000000|\n",
      "| 468.000000|       52.000000|3.075000|213500.000000|     -122.260000|   37.850000|1098.000000|   474.000000|2491.000000|\n",
      "| 174.000000|       52.000000|2.673600|191300.000000|     -122.260000|   37.840000| 345.000000|   191.000000| 696.000000|\n",
      "| 620.000000|       52.000000|1.916700|159200.000000|     -122.260000|   37.850000|1212.000000|   626.000000|2643.000000|\n",
      "| 264.000000|       50.000000|2.125000|140000.000000|     -122.260000|   37.850000| 697.000000|   283.000000|1120.000000|\n",
      "| 331.000000|       52.000000|2.775000|152500.000000|     -122.270000|   37.850000| 793.000000|   347.000000|1966.000000|\n",
      "| 303.000000|       52.000000|2.120200|155500.000000|     -122.270000|   37.850000| 648.000000|   293.000000|1228.000000|\n",
      "| 419.000000|       50.000000|1.991100|158700.000000|     -122.260000|   37.840000| 990.000000|   455.000000|2239.000000|\n",
      "| 275.000000|       52.000000|2.603300|162900.000000|     -122.270000|   37.840000| 690.000000|   298.000000|1503.000000|\n",
      "+-----------+----------------+--------+-------------+----------------+------------+-----------+-------------+-----------+\n",
      "only showing top 20 rows\n",
      "\n"
     ]
    }
   ],
   "source": [
    "df.show()"
   ]
  }
 ],
 "metadata": {
  "kernelspec": {
   "display_name": "Python 3",
   "language": "python",
   "name": "python3"
  },
  "language_info": {
   "codemirror_mode": {
    "name": "ipython",
    "version": 3
   },
   "file_extension": ".py",
   "mimetype": "text/x-python",
   "name": "python",
   "nbconvert_exporter": "python",
   "pygments_lexer": "ipython3",
   "version": "3.6.5"
  }
 },
 "nbformat": 4,
 "nbformat_minor": 2
}
